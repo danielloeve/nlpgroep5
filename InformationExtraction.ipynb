{
 "cells": [
  {
   "cell_type": "code",
   "execution_count": null,
   "metadata": {},
   "outputs": [],
   "source": [
    "import pandas as pd\n",
    "import spacy\n",
    "from spacy import displacy\n",
    "from spacypdfreader import pdf_reader\n",
    "\n",
    "nlp = spacy.load(\"en_core_web_sm\")\n",
    "doc = pdf_reader(\"tests/data/test_pdf_01.pdf\", nlp)\n",
    "\n",
    "# Get the page number of any token.\n",
    "print(doc[0]._.page_number)  # 1\n",
    "print(doc[-1]._.page_number) # 4\n",
    "\n",
    "# Get page meta data about the PDF document.\n",
    "print(doc._.pdf_file_name)   # \"tests/data/test_pdf_01.pdf\"\n",
    "print(doc._.page_range)      # (1, 4)\n",
    "print(doc._.first_page)      # 1\n",
    "print(doc._.last_page)       # 4\n",
    "\n"
   ]
  }
 ],
 "metadata": {
  "kernelspec": {
   "display_name": "Python 3.10.7 64-bit (microsoft store)",
   "language": "python",
   "name": "python3"
  },
  "language_info": {
   "name": "python",
   "version": "3.10.7"
  },
  "orig_nbformat": 4,
  "vscode": {
   "interpreter": {
    "hash": "602bbe8e8fe3127dc2d2bb8f57c49cfbb507be2cc0e090f10eb4c4d0af354b8b"
   }
  }
 },
 "nbformat": 4,
 "nbformat_minor": 2
}
