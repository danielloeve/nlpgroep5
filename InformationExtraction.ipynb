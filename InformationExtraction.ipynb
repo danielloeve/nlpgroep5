{
 "cells": [
  {
   "cell_type": "code",
   "execution_count": null,
   "metadata": {},
   "outputs": [],
   "source": [
    "# Package import\n",
    "import pandas as pd\n",
    "import spacy\n",
    "from spacy import displacy\n",
    "from spacypdfreader import pdf_reader\n",
    "\n",
    "# File + NLP import\n",
    "nlp = spacy.load(\"en_core_web_sm\")\n",
    "doc = pdf_reader(\"Patient_Registratie_formulier.pdf\", nlp)\n",
    "\n",
    "# Get the page number of any token.\n",
    "# https://spacy.io/universe/project/spacypdfreader\n",
    "print(doc[0]._.page_number)  # 1\n",
    "print(doc[-1]._.page_number) # 4\n",
    "\n",
    "# Get page meta data about the PDF document.\n",
    "print(doc._.pdf_file_name)   # \"tests/data/test_pdf_01.pdf\"\n",
    "print(doc._.page_range)      # (1, 4)\n",
    "print(doc._.first_page)      # 1\n",
    "print(doc._.last_page)       # 4\n",
    "\n"
   ]
  }
 ],
 "metadata": {
  "kernelspec": {
   "display_name": "Python 3.10.7 64-bit",
   "language": "python",
   "name": "python3"
  },
  "language_info": {
   "name": "python",
   "version": "3.10.7"
  },
  "orig_nbformat": 4,
  "vscode": {
   "interpreter": {
    "hash": "6129592f8db9048d3d351272a0f693e9acb4690696662b0b1e6641a31f01410e"
   }
  }
 },
 "nbformat": 4,
 "nbformat_minor": 2
}
